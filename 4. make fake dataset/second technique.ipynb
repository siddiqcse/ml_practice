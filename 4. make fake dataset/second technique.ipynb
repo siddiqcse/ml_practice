{
 "cells": [
  {
   "cell_type": "code",
   "execution_count": 1,
   "metadata": {},
   "outputs": [],
   "source": [
    "import pandas as pd\n",
    "import random"
   ]
  },
  {
   "cell_type": "code",
   "execution_count": 9,
   "metadata": {},
   "outputs": [
    {
     "data": {
      "text/html": [
       "<div>\n",
       "<style scoped>\n",
       "    .dataframe tbody tr th:only-of-type {\n",
       "        vertical-align: middle;\n",
       "    }\n",
       "\n",
       "    .dataframe tbody tr th {\n",
       "        vertical-align: top;\n",
       "    }\n",
       "\n",
       "    .dataframe thead th {\n",
       "        text-align: right;\n",
       "    }\n",
       "</style>\n",
       "<table border=\"1\" class=\"dataframe\">\n",
       "  <thead>\n",
       "    <tr style=\"text-align: right;\">\n",
       "      <th></th>\n",
       "      <th>Column1</th>\n",
       "      <th>Column2</th>\n",
       "    </tr>\n",
       "  </thead>\n",
       "  <tbody>\n",
       "    <tr>\n",
       "      <th>0</th>\n",
       "      <td>0</td>\n",
       "      <td>5</td>\n",
       "    </tr>\n",
       "    <tr>\n",
       "      <th>0</th>\n",
       "      <td>1</td>\n",
       "      <td>3</td>\n",
       "    </tr>\n",
       "    <tr>\n",
       "      <th>1</th>\n",
       "      <td>1</td>\n",
       "      <td>4</td>\n",
       "    </tr>\n",
       "    <tr>\n",
       "      <th>1</th>\n",
       "      <td>1</td>\n",
       "      <td>6</td>\n",
       "    </tr>\n",
       "    <tr>\n",
       "      <th>2</th>\n",
       "      <td>2</td>\n",
       "      <td>7</td>\n",
       "    </tr>\n",
       "    <tr>\n",
       "      <th>2</th>\n",
       "      <td>4</td>\n",
       "      <td>7</td>\n",
       "    </tr>\n",
       "  </tbody>\n",
       "</table>\n",
       "</div>"
      ],
      "text/plain": [
       "   Column1  Column2\n",
       "0        0        5\n",
       "0        1        3\n",
       "1        1        4\n",
       "1        1        6\n",
       "2        2        7\n",
       "2        4        7"
      ]
     },
     "execution_count": 9,
     "metadata": {},
     "output_type": "execute_result"
    }
   ],
   "source": [
    "data = {'Column1': [1, 2, 3],\n",
    "        'Column2': [4,5,6]}\n",
    "original_data = pd.DataFrame(data)\n",
    "# Number of new rows to generate per existing row\n",
    "num_new_rows = 2\n",
    "\n",
    "new_data = []\n",
    "\n",
    "for _, row in original_data.iterrows():\n",
    "    for _ in range(num_new_rows):\n",
    "        new_row = row.copy()\n",
    "        # Apply some random variations to the new row's data\n",
    "        new_row['Column1'] += random.randint(-1, 1)\n",
    "        new_row['Column2'] += random.randint(-1, 1)\n",
    "        new_data.append(new_row)\n",
    "\n",
    "new_data_df = pd.DataFrame(new_data)\n",
    "new_data_df\n"
   ]
  },
  {
   "cell_type": "code",
   "execution_count": 14,
   "metadata": {},
   "outputs": [
    {
     "data": {
      "text/plain": [
       "[{'name': 'Alice', 'age': 24},\n",
       " {'name': 'Charlie', 'age': 22},\n",
       " {'name': 'Charlie', 'age': 18},\n",
       " {'name': 'Bob', 'age': 34},\n",
       " {'name': 'Charlie', 'age': 26}]"
      ]
     },
     "execution_count": 14,
     "metadata": {},
     "output_type": "execute_result"
    }
   ],
   "source": [
    "import random\n",
    "\n",
    "# existing data\n",
    "existing_data = [\n",
    "    {\"name\": \"Alice\", \"age\": 25},\n",
    "    {\"name\": \"Bob\", \"age\": 30},\n",
    "    {\"name\": \"Charlie\", \"age\": 22}\n",
    "]\n",
    "\n",
    "# Number of additional rows you want to generate\n",
    "num_additional_rows = 5\n",
    "\n",
    "# Generate more rows based on existing data\n",
    "new_data = []\n",
    "for _ in range(num_additional_rows):\n",
    "    # Create a new row based on the existing data\n",
    "    existing_row = random.choice(existing_data)\n",
    "    new_row = {\n",
    "        \"name\": existing_row[\"name\"],\n",
    "        \"age\": existing_row[\"age\"] + random.randint(-5, 5)  # Add or subtract a random age difference\n",
    "    }\n",
    "    new_data.append(new_row)\n",
    "\n",
    "new_data\n"
   ]
  },
  {
   "cell_type": "code",
   "execution_count": 16,
   "metadata": {},
   "outputs": [
    {
     "name": "stdout",
     "output_type": "stream",
     "text": [
      "{'name': 'Alice', 'age': 25, 'city': 'New York'}\n",
      "{'name': 'Bob', 'age': 30, 'city': 'Los Angeles'}\n",
      "{'name': 'Alice', 'age': 30, 'city': 'New York'}\n",
      "{'name': 'Bob', 'age': 35, 'city': 'Los Angeles'}\n",
      "{'name': 'Alice', 'age': 35, 'city': 'New York'}\n",
      "{'name': 'Bob', 'age': 40, 'city': 'Los Angeles'}\n"
     ]
    }
   ],
   "source": [
    "# Example input data\n",
    "data = [\n",
    "    {'name': 'Alice', 'age': 25, 'city': 'New York'},\n",
    "    {'name': 'Bob', 'age': 30, 'city': 'Los Angeles'},\n",
    "]\n",
    "\n",
    "# Generate more rows based on previous data\n",
    "new_data = []\n",
    "\n",
    "for i in range(3):\n",
    "    for person in data:\n",
    "        new_person = dict(person)  # Create a copy of the existing data\n",
    "        new_person['age'] += i * 5  # Modify the age, for example\n",
    "        new_data.append(new_person)\n",
    "\n",
    "# Display the new data\n",
    "for person in new_data:\n",
    "    print(person)\n"
   ]
  },
  {
   "cell_type": "code",
   "execution_count": null,
   "metadata": {},
   "outputs": [],
   "source": []
  }
 ],
 "metadata": {
  "kernelspec": {
   "display_name": "Python 3",
   "language": "python",
   "name": "python3"
  },
  "language_info": {
   "codemirror_mode": {
    "name": "ipython",
    "version": 3
   },
   "file_extension": ".py",
   "mimetype": "text/x-python",
   "name": "python",
   "nbconvert_exporter": "python",
   "pygments_lexer": "ipython3",
   "version": "3.10.4"
  }
 },
 "nbformat": 4,
 "nbformat_minor": 2
}
