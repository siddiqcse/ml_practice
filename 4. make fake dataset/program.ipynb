{
 "cells": [
  {
   "cell_type": "markdown",
   "metadata": {},
   "source": [
    "# https://faker.readthedocs.io/en/master/Faker’s\n",
    "\n",
    "##### Faker is a Python package that generates fake data for you. Whether you need to bootstrap your database, create good-looking XML documents, fill-in your persistence to stress test it, or anonymize data taken from a production service, Faker is for you."
   ]
  },
  {
   "cell_type": "code",
   "execution_count": 1,
   "metadata": {},
   "outputs": [
    {
     "name": "stdout",
     "output_type": "stream",
     "text": [
      "Collecting Faker\n",
      "  Downloading Faker-19.10.0-py3-none-any.whl (1.7 MB)\n",
      "     ---------------------------------------- 1.7/1.7 MB 2.0 MB/s eta 0:00:00\n",
      "Requirement already satisfied: python-dateutil>=2.4 in c:\\users\\hp\\appdata\\roaming\\python\\python310\\site-packages (from Faker) (2.8.2)\n",
      "Requirement already satisfied: six>=1.5 in c:\\users\\hp\\appdata\\roaming\\python\\python310\\site-packages (from python-dateutil>=2.4->Faker) (1.16.0)\n",
      "Installing collected packages: Faker\n",
      "Successfully installed Faker-19.10.0\n"
     ]
    },
    {
     "name": "stderr",
     "output_type": "stream",
     "text": [
      "WARNING: You are using pip version 22.0.4; however, version 23.2.1 is available.\n",
      "You should consider upgrading via the 'C:\\Users\\HP\\AppData\\Local\\Programs\\Python\\Python310\\python.exe -m pip install --upgrade pip' command.\n"
     ]
    }
   ],
   "source": [
    "!pip install Faker"
   ]
  },
  {
   "cell_type": "markdown",
   "metadata": {},
   "source": [
    "Basic Usage"
   ]
  },
  {
   "cell_type": "code",
   "execution_count": 6,
   "metadata": {},
   "outputs": [
    {
     "name": "stdout",
     "output_type": "stream",
     "text": [
      "Heather Gonzalez\n",
      "03362 Johnston Mountain\n",
      "Miguelberg, GA 73784\n",
      "Then station nothing member statement. Six animal case short.\n",
      "Well note price fund.\n",
      "Traditional language say really simply. Above risk visit quite season off social cup.\n",
      "\n",
      "Haley Williams\n",
      "Monica Lee\n",
      "Jennifer Mitchell\n",
      "Teresa Jones\n",
      "Steven Mueller\n",
      "Kristy Parsons\n",
      "Julian Gray\n",
      "Amy Thornton\n",
      "Joseph Alvarez\n",
      "Ariana Boyd\n"
     ]
    }
   ],
   "source": [
    "from faker import Faker\n",
    "fake = Faker()\n",
    "print(fake.name())\n",
    "print(fake.address())\n",
    "print(fake.text())\n",
    "print()\n",
    "for _ in range(10):\n",
    "  print(fake.name())"
   ]
  },
  {
   "cell_type": "markdown",
   "metadata": {},
   "source": [
    "Providers"
   ]
  },
  {
   "cell_type": "code",
   "execution_count": 7,
   "metadata": {},
   "outputs": [
    {
     "name": "stdout",
     "output_type": "stream",
     "text": [
      "192.168.38.181\n"
     ]
    }
   ],
   "source": [
    "from faker.providers import internet\n",
    "\n",
    "fake = Faker()\n",
    "fake.add_provider(internet)\n",
    "\n",
    "print(fake.ipv4_private())"
   ]
  },
  {
   "cell_type": "markdown",
   "metadata": {},
   "source": [
    "#### How to create a Provider"
   ]
  },
  {
   "cell_type": "code",
   "execution_count": 20,
   "metadata": {},
   "outputs": [
    {
     "name": "stdout",
     "output_type": "stream",
     "text": [
      "bar\n"
     ]
    }
   ],
   "source": [
    "from faker import Faker\n",
    "fake = Faker()\n",
    "# first, import a similar Provider or use the default one\n",
    "from faker.providers import BaseProvider\n",
    "\n",
    "# create new provider class\n",
    "class MyProvider(BaseProvider):\n",
    "    def foo(self) -> str:\n",
    "        return 'bar'\n",
    "\n",
    "# then add new provider to faker instance\n",
    "fake.add_provider(MyProvider)\n",
    "\n",
    "# now you can use:\n",
    "print(fake.foo())"
   ]
  },
  {
   "cell_type": "markdown",
   "metadata": {},
   "source": [
    "#### How to create a Dynamic Provider\n",
    "##### Dynamic providers can read elements from an external source."
   ]
  },
  {
   "cell_type": "code",
   "execution_count": 27,
   "metadata": {},
   "outputs": [
    {
     "name": "stdout",
     "output_type": "stream",
     "text": [
      "doctor\n",
      "dr.\n",
      "clerk\n",
      "dr.\n",
      "nurse\n",
      "nurse\n",
      "nurse\n",
      "dr.\n",
      "surgeon\n",
      "clerk\n"
     ]
    }
   ],
   "source": [
    "from faker import Faker\n",
    "from faker.providers import DynamicProvider\n",
    "\n",
    "medical_professions_provider = DynamicProvider(\n",
    "     provider_name=\"medical_profession\",\n",
    "     elements=[\"dr.\", \"doctor\", \"nurse\", \"surgeon\", \"clerk\"],\n",
    ")\n",
    "fake = Faker()\n",
    "fake.add_provider(medical_professions_provider)\n",
    "\n",
    "\n",
    "\n",
    "for _ in range(10):\n",
    "  print(fake.medical_profession())\n"
   ]
  },
  {
   "cell_type": "code",
   "execution_count": 32,
   "metadata": {},
   "outputs": [
    {
     "name": "stdout",
     "output_type": "stream",
     "text": [
      "Male\n",
      "Female\n",
      "Other\n",
      "Other\n",
      "Other\n",
      "Female\n",
      "Other\n",
      "Male\n",
      "Male\n",
      "Female\n"
     ]
    }
   ],
   "source": [
    "from faker import Faker\n",
    "from faker.providers import DynamicProvider\n",
    "\n",
    "gender_provider = DynamicProvider(\n",
    "     provider_name=\"gender_provider\",\n",
    "     elements=[\"Male\", \"Female\", \"Other\"],\n",
    ")\n",
    "fake = Faker()\n",
    "fake.add_provider(gender_provider)\n",
    "\n",
    "for _ in range(10):\n",
    "  print(fake.gender_provider())"
   ]
  },
  {
   "cell_type": "markdown",
   "metadata": {},
   "source": [
    "Localization"
   ]
  },
  {
   "cell_type": "code",
   "execution_count": 10,
   "metadata": {},
   "outputs": [
    {
     "name": "stdout",
     "output_type": "stream",
     "text": [
      "Paulina Bottaro-Celentano\n",
      "Dott. Giuliana Gramsci\n",
      "Leone Botticelli-Quasimodo\n",
      "Costantino Cutuli\n",
      "Stella Florio\n",
      "Adamo Anichini-Garibaldi\n",
      "Allegra Malipiero\n",
      "Daniele Terragni\n",
      "Luigina Andreozzi-Gradenigo\n",
      "Isabella Lettiere\n"
     ]
    }
   ],
   "source": [
    "fake = Faker('it_IT')\n",
    "for _ in range(10):\n",
    "    print(fake.name())"
   ]
  },
  {
   "cell_type": "code",
   "execution_count": 13,
   "metadata": {},
   "outputs": [
    {
     "name": "stdout",
     "output_type": "stream",
     "text": [
      "মিষ্টি গঙ্গোপাধ্যায়\n",
      "Taylor Reeves\n",
      "Michelle Garrett\n",
      "আশা জামান\n",
      "অদিতি দে\n",
      "Guglielmo Campano\n",
      "Carlos Barnes\n",
      "Raffaella Jovinelli\n",
      "Julie Johnson\n",
      "George Boyd\n"
     ]
    }
   ],
   "source": [
    "fake = Faker(['it_IT', 'en_US', 'bn_BD'])\n",
    "for _ in range(10):\n",
    "    print(fake.name())"
   ]
  },
  {
   "cell_type": "code",
   "execution_count": null,
   "metadata": {},
   "outputs": [],
   "source": []
  },
  {
   "cell_type": "code",
   "execution_count": null,
   "metadata": {},
   "outputs": [],
   "source": []
  }
 ],
 "metadata": {
  "kernelspec": {
   "display_name": "Python 3",
   "language": "python",
   "name": "python3"
  },
  "language_info": {
   "codemirror_mode": {
    "name": "ipython",
    "version": 3
   },
   "file_extension": ".py",
   "mimetype": "text/x-python",
   "name": "python",
   "nbconvert_exporter": "python",
   "pygments_lexer": "ipython3",
   "version": "3.10.4"
  }
 },
 "nbformat": 4,
 "nbformat_minor": 2
}
