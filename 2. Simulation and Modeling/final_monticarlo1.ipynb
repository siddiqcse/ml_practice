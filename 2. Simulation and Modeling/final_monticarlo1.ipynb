{
  "nbformat": 4,
  "nbformat_minor": 0,
  "metadata": {
    "colab": {
      "provenance": []
    },
    "kernelspec": {
      "name": "python3",
      "display_name": "Python 3"
    },
    "language_info": {
      "name": "python"
    }
  },
  "cells": [
    {
      "cell_type": "code",
      "execution_count": 3,
      "metadata": {
        "id": "leypdmeHe3lf"
      },
      "outputs": [],
      "source": [
        "import numpy as np\n",
        "import matplotlib.pyplot as plt\n",
        "import random\n"
      ]
    },
    {
      "cell_type": "code",
      "source": [
        "a=0.15\n",
        "b=3\n",
        "c=5\n",
        "total_sample=400\n",
        "area=0\n",
        "def f(x):\n",
        "  return np.sin(x)\n",
        "\n",
        "point_insite=[]\n",
        "point_outside=[]\n"
      ],
      "metadata": {
        "id": "h1Tfn5L7fgfJ"
      },
      "execution_count": 4,
      "outputs": []
    },
    {
      "cell_type": "code",
      "source": [
        "for _ in range(total_sample):\n",
        "  x=random.uniform(a,b)\n",
        "  y=random.uniform(0,c)\n",
        "  if y<=f(x):\n",
        "    area=area+1\n",
        "    point_insite.append((x,y))\n",
        "  else:\n",
        "    point_outside.append((x,y))\n",
        "\n",
        "estimate_area=(area/total_sample)*((b-a)*c)\n",
        "\n",
        "num_segments=30\n",
        "\n",
        "segment_faults=[0]*num_segments\n",
        "print(segment_faults)\n"
      ],
      "metadata": {
        "colab": {
          "base_uri": "https://localhost:8080/"
        },
        "id": "yIdLA-9ihcfp",
        "outputId": "eff12b37-bb0b-40e9-b1ba-b4e6c05d52fe"
      },
      "execution_count": 5,
      "outputs": [
        {
          "output_type": "stream",
          "name": "stdout",
          "text": [
            "[0, 0, 0, 0, 0, 0, 0, 0, 0, 0, 0, 0, 0, 0, 0, 0, 0, 0, 0, 0, 0, 0, 0, 0, 0, 0, 0, 0, 0, 0]\n"
          ]
        }
      ]
    },
    {
      "cell_type": "code",
      "source": [
        "segment_wigth=(b-a)/num_segments\n",
        "\n",
        "for i in range(num_segments):\n",
        "  segmant_start=a+i*segment_wigth\n",
        "  segment_end=segmant_start+segment_wigth\n",
        "  for x,y in point_insite:\n",
        "    if(segmant_start<=x<=segment_end):\n",
        "      segment_faults[i]+=1\n",
        "\n"
      ],
      "metadata": {
        "id": "41SlJsQOkx4l"
      },
      "execution_count": 6,
      "outputs": []
    },
    {
      "cell_type": "code",
      "source": [
        "print('day     fault')\n",
        "for i in range(num_segments):\n",
        "  print(f\"{i+1}        {segment_faults[i]}\"   )"
      ],
      "metadata": {
        "colab": {
          "base_uri": "https://localhost:8080/"
        },
        "id": "_8NyKtScmzg0",
        "outputId": "65f30505-2271-4773-edb0-f072b9a30657"
      },
      "execution_count": 7,
      "outputs": [
        {
          "output_type": "stream",
          "name": "stdout",
          "text": [
            "day     fault\n",
            "1        0\n",
            "2        0\n",
            "3        2\n",
            "4        2\n",
            "5        3\n",
            "6        0\n",
            "7        5\n",
            "8        1\n",
            "9        3\n",
            "10        1\n",
            "11        3\n",
            "12        5\n",
            "13        3\n",
            "14        4\n",
            "15        3\n",
            "16        1\n",
            "17        3\n",
            "18        4\n",
            "19        4\n",
            "20        1\n",
            "21        2\n",
            "22        4\n",
            "23        0\n",
            "24        2\n",
            "25        2\n",
            "26        0\n",
            "27        1\n",
            "28        2\n",
            "29        2\n",
            "30        0\n"
          ]
        }
      ]
    },
    {
      "cell_type": "code",
      "source": [
        "print('Total Sample',total_sample)\n",
        "print('Inside The functiuon',area)\n",
        "print('Estimate area',estimate_area)\n",
        "\n",
        "x=np.linspace(a,b,1000)\n",
        "plt.plot(x,f(x),label='f(x)')\n",
        "plt.scatter(*zip(*point_insite),color='blue',marker='*')\n",
        "plt.scatter(*zip(*point_outside),color='red',marker='+')\n",
        "u=a\n",
        "\n",
        "plt.axvline(x=u,color='b')\n",
        "for _ in range(30):\n",
        "    u=u+segment_wigth\n",
        "    plt.axvline(x=u,color='b')\n",
        "\n",
        "plt.show()\n",
        "\n",
        "\n"
      ],
      "metadata": {
        "colab": {
          "base_uri": "https://localhost:8080/",
          "height": 484
        },
        "id": "i3nLawOTn8sq",
        "outputId": "68e4b844-9581-4cff-dab4-8cb267534aac"
      },
      "execution_count": 8,
      "outputs": [
        {
          "output_type": "stream",
          "name": "stdout",
          "text": [
            "Total Sample 400\n",
            "Inside The functiuon 63\n",
            "Estimate area 2.2443750000000002\n"
          ]
        },
        {
          "output_type": "display_data",
          "data": {
            "text/plain": [
              "<Figure size 640x480 with 1 Axes>"
            ],
            "image/png": "[encoded data removed]"
          },
          "metadata": {}
        }
      ]
    },
    {
      "cell_type": "code",
      "source": [],
      "metadata": {
        "id": "WHiZdnoYopwu"
      },
      "execution_count": 8,
      "outputs": []
    }
  ]
}