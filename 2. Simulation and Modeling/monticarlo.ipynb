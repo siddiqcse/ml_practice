{
  "cells": [
    {
      "cell_type": "code",
      "execution_count": 1,
      "metadata": {
        "id": "leypdmeHe3lf"
      },
      "outputs": [],
      "source": [
        "import numpy as np\n",
        "import matplotlib.pyplot as plt\n",
        "import random\n"
      ]
    },
    {
      "cell_type": "code",
      "execution_count": 2,
      "metadata": {
        "id": "h1Tfn5L7fgfJ"
      },
      "outputs": [],
      "source": [
        "a=0.15\n",
        "b=3\n",
        "c=5\n",
        "total_sample=400\n",
        "area=0\n",
        "def f(x):\n",
        "  return np.sin(x)\n",
        "\n",
        "point_insite=[]\n",
        "point_outside=[]\n"
      ]
    },
    {
      "cell_type": "code",
      "execution_count": 3,
      "metadata": {
        "colab": {
          "base_uri": "https://localhost:8080/"
        },
        "id": "yIdLA-9ihcfp",
        "outputId": "eff12b37-bb0b-40e9-b1ba-b4e6c05d52fe"
      },
      "outputs": [
        {
          "name": "stdout",
          "output_type": "stream",
          "text": [
            "[0, 0, 0, 0, 0, 0, 0, 0, 0, 0, 0, 0, 0, 0, 0, 0, 0, 0, 0, 0, 0, 0, 0, 0, 0, 0, 0, 0, 0, 0]\n"
          ]
        }
      ],
      "source": [
        "for _ in range(total_sample):\n",
        "  x=random.uniform(a,b)\n",
        "  y=random.uniform(0,c)\n",
        "  if y<=f(x):\n",
        "    area=area+1\n",
        "    point_insite.append((x,y))\n",
        "  else:\n",
        "    point_outside.append((x,y))\n",
        "\n",
        "estimate_area=(area/total_sample)*((b-a)*c)\n",
        "\n",
        "num_segments=30\n",
        "\n",
        "segment_faults=[0]*num_segments\n",
        "print(segment_faults)\n"
      ]
    },
    {
      "cell_type": "code",
      "execution_count": 4,
      "metadata": {},
      "outputs": [
        {
          "data": {
            "text/plain": [
              "0.095"
            ]
          },
          "execution_count": 4,
          "metadata": {},
          "output_type": "execute_result"
        }
      ],
      "source": [
        "segment_wigth=(b-a)/num_segments\n",
        "segment_wigth"
      ]
    },
    {
      "cell_type": "code",
      "execution_count": 6,
      "metadata": {
        "id": "41SlJsQOkx4l"
      },
      "outputs": [],
      "source": [
        "segment_wigth=(b-a)/num_segments\n",
        "\n",
        "for i in range(num_segments):\n",
        "  segmant_start=a+i*segment_wigth\n",
        "  segment_end=segmant_start+segment_wigth\n",
        "  for x,y in point_insite:\n",
        "    if(segmant_start<=x<=segment_end):\n",
        "      segment_faults[i]+=1\n",
        "\n"
      ]
    },
    {
      "cell_type": "code",
      "execution_count": 7,
      "metadata": {
        "colab": {
          "base_uri": "https://localhost:8080/"
        },
        "id": "_8NyKtScmzg0",
        "outputId": "65f30505-2271-4773-edb0-f072b9a30657"
      },
      "outputs": [
        {
          "name": "stdout",
          "output_type": "stream",
          "text": [
            "day     fault\n",
            "1        0\n",
            "2        0\n",
            "3        2\n",
            "4        2\n",
            "5        3\n",
            "6        0\n",
            "7        5\n",
            "8        1\n",
            "9        3\n",
            "10        1\n",
            "11        3\n",
            "12        5\n",
            "13        3\n",
            "14        4\n",
            "15        3\n",
            "16        1\n",
            "17        3\n",
            "18        4\n",
            "19        4\n",
            "20        1\n",
            "21        2\n",
            "22        4\n",
            "23        0\n",
            "24        2\n",
            "25        2\n",
            "26        0\n",
            "27        1\n",
            "28        2\n",
            "29        2\n",
            "30        0\n"
          ]
        }
      ],
      "source": [
        "print('day     fault')\n",
        "for i in range(num_segments):\n",
        "  print(f\"{i+1}        {segment_faults[i]}\"   )"
      ]
    },
    {
      "cell_type": "code",
      "execution_count": 21,
      "metadata": {
        "colab": {
          "base_uri": "https://localhost:8080/",
          "height": 484
        },
        "id": "i3nLawOTn8sq",
        "outputId": "68e4b844-9581-4cff-dab4-8cb267534aac"
      },
      "outputs": [
        {
          "name": "stdout",
          "output_type": "stream",
          "text": [
            "Total Sample 400\n",
            "Inside The functiuon 44\n",
            "Estimate area 1.5675000000000001\n",
            "0.15\n"
          ]
        },
        {
          "data": {
            "image/png": "[encoded data removed]",
            "text/plain": [
              "<Figure size 640x480 with 1 Axes>"
            ]
          },
          "metadata": {},
          "output_type": "display_data"
        }
      ],
      "source": [
        "print('Total Sample',total_sample)\n",
        "print('Inside The functiuon',area)\n",
        "print('Estimate area',estimate_area)\n",
        "\n",
        "x=np.linspace(a,b,1000)\n",
        "plt.plot(x,f(x),label='f(x)')\n",
        "\n",
        "plt.scatter(*zip(*point_insite),color='blue',marker='*')\n",
        "plt.scatter(*zip(*point_outside),color='red',marker='+')\n",
        "u=a\n",
        "\n",
        "print(a)\n",
        "plt.axvline(x=u,color='b')\n",
        "for _ in range(30):\n",
        "    u=u+segment_wigth\n",
        "    plt.axvline(x=u,color='b')\n",
        "\n",
        "plt.show()\n",
        "\n",
        "\n"
      ]
    },
    {
      "cell_type": "code",
      "execution_count": 8,
      "metadata": {
        "id": "WHiZdnoYopwu"
      },
      "outputs": [],
      "source": []
    }
  ],
  "metadata": {
    "colab": {
      "provenance": []
    },
    "kernelspec": {
      "display_name": "Python 3",
      "name": "python3"
    },
    "language_info": {
      "codemirror_mode": {
        "name": "ipython",
        "version": 3
      },
      "file_extension": ".py",
      "mimetype": "text/x-python",
      "name": "python",
      "nbconvert_exporter": "python",
      "pygments_lexer": "ipython3",
      "version": "3.10.4"
    }
  },
  "nbformat": 4,
  "nbformat_minor": 0
}
