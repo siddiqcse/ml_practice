{
 "cells": [
  {
   "cell_type": "code",
   "execution_count": 53,
   "metadata": {},
   "outputs": [],
   "source": [
    "import pandas as pd\n",
    "import numpy as np\n",
    "from sklearn.preprocessing import LabelEncoder, OneHotEncoder\n",
    "import warnings as wr # for Handle Error \n",
    "from sklearn.model_selection import train_test_split # for Data Separation\n",
    "from sklearn.tree import DecisionTreeClassifier\n",
    "# Loading the dataset using pandas\n",
    "df = pd.read_csv(\"train.csv\")\n",
    "# # Displaying the 1st five data elements of the dataframe\n",
    "# df.head() \n",
    "# Getting information about the dataset\n",
    "# df.info()"
   ]
  },
  {
   "cell_type": "code",
   "execution_count": 54,
   "metadata": {},
   "outputs": [],
   "source": [
    "# Dropping columns which may not contribute much to our machine learning model\n",
    "cols = ['Name','Ticket','Cabin']\n",
    "df = df.drop(['Name', 'Ticket', 'Cabin'],axis=1)\n",
    "# We dropped 3 columns (Name, Ticket, Cabin)\n",
    "# df.info()"
   ]
  },
  {
   "cell_type": "code",
   "execution_count": 55,
   "metadata": {},
   "outputs": [],
   "source": [
    "le=LabelEncoder()\n",
    "wr.filterwarnings('ignore')\n",
    "for col in df.columns:\n",
    "    if df[col].dtype==np.number:\n",
    "        continue\n",
    "    df[col]=le.fit_transform(df[col])\n",
    "# df.info()"
   ]
  },
  {
   "cell_type": "code",
   "execution_count": 56,
   "metadata": {},
   "outputs": [],
   "source": [
    "# Deleting the Missing value   Result is : 0.8321678321678322\n",
    "# print(df.isnull().sum())\n",
    "# df = df.dropna(axis=0)\n",
    "# print(df.isnull().sum())\n",
    "\n",
    "#Replacing with the mean  Result is: 0.7430167597765364\n",
    "# df['Age'] = df['Age'].fillna(df['Age'].mean())\n",
    "# df.info()\n",
    "\n",
    "#Replace the missing values for categorical columns with mode  Result is: 0.7374301675977654\n",
    "# df['Age'] = df['Age'].fillna(df['Age'].mode()[0])\n",
    "# df.isnull().sum()\n",
    "\n",
    "#Replace the missing values for categorical columns with Median  Result is: 0.7430167597765364\n",
    "# df['Age'] = df['Age'].fillna(df['Age'].median())\n",
    "# df.isnull().sum()\n",
    "\n",
    "# Replacing with the previous value – forward fill Result is: 0.7486033519553073\n",
    "df= df.fillna(method='bfill')\n",
    "\n",
    "#Interpolation   Result is: 0.7262569832402235\n",
    "\n",
    "# Missing values can also be imputed using interpolation. Pandas’ interpolate method can be used to replace the missing values with different interpolation methods like ‘polynomial,’ ‘linear,’ and ‘quadratic.’ The default method is ‘linear.’\n",
    "\n",
    "\n",
    "# df=df.interpolate()\n",
    "\n",
    "\n",
    "# Impute the Most Frequent Value\n",
    "# We will use ‘SimpleImputer’ in this case, and as this is a non-numeric column, we can’t use mean or median, but we can use the most frequent value and constant.\n",
    "\n",
    "# https://www.analyticsvidhya.com/blog/2021/10/handling-missing-value/"
   ]
  },
  {
   "cell_type": "code",
   "execution_count": 57,
   "metadata": {},
   "outputs": [
    {
     "name": "stdout",
     "output_type": "stream",
     "text": [
      "0.7206703910614525\n"
     ]
    }
   ],
   "source": [
    "y=df['Survived'] # Store Weight Data On Y\n",
    "x=df.drop('Survived',axis=1)\n",
    "x_new=pd.get_dummies(x,columns=['Sex'],dtype=np.int32,drop_first=False)\n",
    "xTrain,xTest,yTrain,yTest=train_test_split(x_new,y,random_state=42,test_size=0.20)\n",
    "reg=DecisionTreeClassifier()\n",
    "reg.fit(xTrain,yTrain) \n",
    "print(reg.score(xTest,yTest))\n",
    "# print(reg.predict(xTest))\n",
    "# print(yTest)"
   ]
  },
  {
   "cell_type": "code",
   "execution_count": null,
   "metadata": {},
   "outputs": [],
   "source": []
  },
  {
   "cell_type": "code",
   "execution_count": null,
   "metadata": {},
   "outputs": [],
   "source": []
  },
  {
   "cell_type": "code",
   "execution_count": null,
   "metadata": {},
   "outputs": [],
   "source": []
  }
 ],
 "metadata": {
  "kernelspec": {
   "display_name": "Python 3",
   "language": "python",
   "name": "python3"
  },
  "language_info": {
   "codemirror_mode": {
    "name": "ipython",
    "version": 3
   },
   "file_extension": ".py",
   "mimetype": "text/x-python",
   "name": "python",
   "nbconvert_exporter": "python",
   "pygments_lexer": "ipython3",
   "version": "3.10.4"
  },
  "orig_nbformat": 4
 },
 "nbformat": 4,
 "nbformat_minor": 2
}
